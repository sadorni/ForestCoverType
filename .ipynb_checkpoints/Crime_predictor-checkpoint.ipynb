{
 "cells": [
  {
   "cell_type": "markdown",
   "metadata": {},
   "source": [
    "# Predicting crime rates USA"
   ]
  },
  {
   "cell_type": "code",
   "execution_count": 5,
   "metadata": {},
   "outputs": [],
   "source": [
    "import matplotlib\n",
    "import matplotlib.pyplot as plt\n",
    "import numpy as np\n",
    "import pandas as pd\n",
    "import seaborn as sns\n",
    "import sys\n",
    "from sklearn.ensemble import RandomForestClassifier \n",
    "from sklearn.metrics import classification_report\n",
    "from sklearn.metrics import confusion_matrix\n",
    "from sklearn.model_selection import train_test_split\n",
    "%matplotlib inline\n",
    "np.set_printoptions(threshold=sys.maxsize)"
   ]
  },
  {
   "cell_type": "code",
   "execution_count": 6,
   "metadata": {},
   "outputs": [],
   "source": [
    "missing_values_string = ['', ' ', '#N/A', '#N/A N/A', '#NA', '-1.#IND', '-1.#QNAN', '-NaN', '-nan', '1.#IND',\n",
    "                         '1.#QNAN', 'N/A', 'NA', 'NULL', 'NaN', 'n/a', 'nan', 'null', '?']\n",
    "data = pd.DataFrame(pd.read_csv(\"communities.csv\", na_values=missing_values_string))"
   ]
  },
  {
   "cell_type": "code",
   "execution_count": 7,
   "metadata": {},
   "outputs": [
    {
     "data": {
      "text/html": [
       "<div>\n",
       "<style scoped>\n",
       "    .dataframe tbody tr th:only-of-type {\n",
       "        vertical-align: middle;\n",
       "    }\n",
       "\n",
       "    .dataframe tbody tr th {\n",
       "        vertical-align: top;\n",
       "    }\n",
       "\n",
       "    .dataframe thead th {\n",
       "        text-align: right;\n",
       "    }\n",
       "</style>\n",
       "<table border=\"1\" class=\"dataframe\">\n",
       "  <thead>\n",
       "    <tr style=\"text-align: right;\">\n",
       "      <th></th>\n",
       "      <th>state</th>\n",
       "      <th>county</th>\n",
       "      <th>community</th>\n",
       "      <th>communityname</th>\n",
       "      <th>fold</th>\n",
       "      <th>population</th>\n",
       "      <th>householdsize</th>\n",
       "      <th>racepctblack</th>\n",
       "      <th>racePctWhite</th>\n",
       "      <th>racePctAsian</th>\n",
       "      <th>...</th>\n",
       "      <th>LandArea</th>\n",
       "      <th>PopDens</th>\n",
       "      <th>PctUsePubTrans</th>\n",
       "      <th>PolicCars</th>\n",
       "      <th>PolicOperBudg</th>\n",
       "      <th>LemasPctPolicOnPatr</th>\n",
       "      <th>LemasGangUnitDeploy</th>\n",
       "      <th>LemasPctOfficDrugUn</th>\n",
       "      <th>PolicBudgPerPop</th>\n",
       "      <th>ViolentCrimesPerPop</th>\n",
       "    </tr>\n",
       "  </thead>\n",
       "  <tbody>\n",
       "    <tr>\n",
       "      <td>0</td>\n",
       "      <td>8</td>\n",
       "      <td>NaN</td>\n",
       "      <td>NaN</td>\n",
       "      <td>Lakewoodcity</td>\n",
       "      <td>1</td>\n",
       "      <td>0.19</td>\n",
       "      <td>0.33</td>\n",
       "      <td>0.02</td>\n",
       "      <td>0.90</td>\n",
       "      <td>0.12</td>\n",
       "      <td>...</td>\n",
       "      <td>0.12</td>\n",
       "      <td>0.26</td>\n",
       "      <td>0.20</td>\n",
       "      <td>0.06</td>\n",
       "      <td>0.04</td>\n",
       "      <td>0.9</td>\n",
       "      <td>0.5</td>\n",
       "      <td>0.32</td>\n",
       "      <td>0.14</td>\n",
       "      <td>0.20</td>\n",
       "    </tr>\n",
       "    <tr>\n",
       "      <td>1</td>\n",
       "      <td>53</td>\n",
       "      <td>NaN</td>\n",
       "      <td>NaN</td>\n",
       "      <td>Tukwilacity</td>\n",
       "      <td>1</td>\n",
       "      <td>0.00</td>\n",
       "      <td>0.16</td>\n",
       "      <td>0.12</td>\n",
       "      <td>0.74</td>\n",
       "      <td>0.45</td>\n",
       "      <td>...</td>\n",
       "      <td>0.02</td>\n",
       "      <td>0.12</td>\n",
       "      <td>0.45</td>\n",
       "      <td>NaN</td>\n",
       "      <td>NaN</td>\n",
       "      <td>NaN</td>\n",
       "      <td>NaN</td>\n",
       "      <td>0.00</td>\n",
       "      <td>NaN</td>\n",
       "      <td>0.67</td>\n",
       "    </tr>\n",
       "    <tr>\n",
       "      <td>2</td>\n",
       "      <td>24</td>\n",
       "      <td>NaN</td>\n",
       "      <td>NaN</td>\n",
       "      <td>Aberdeentown</td>\n",
       "      <td>1</td>\n",
       "      <td>0.00</td>\n",
       "      <td>0.42</td>\n",
       "      <td>0.49</td>\n",
       "      <td>0.56</td>\n",
       "      <td>0.17</td>\n",
       "      <td>...</td>\n",
       "      <td>0.01</td>\n",
       "      <td>0.21</td>\n",
       "      <td>0.02</td>\n",
       "      <td>NaN</td>\n",
       "      <td>NaN</td>\n",
       "      <td>NaN</td>\n",
       "      <td>NaN</td>\n",
       "      <td>0.00</td>\n",
       "      <td>NaN</td>\n",
       "      <td>0.43</td>\n",
       "    </tr>\n",
       "    <tr>\n",
       "      <td>3</td>\n",
       "      <td>34</td>\n",
       "      <td>5.0</td>\n",
       "      <td>81440.0</td>\n",
       "      <td>Willingborotownship</td>\n",
       "      <td>1</td>\n",
       "      <td>0.04</td>\n",
       "      <td>0.77</td>\n",
       "      <td>1.00</td>\n",
       "      <td>0.08</td>\n",
       "      <td>0.12</td>\n",
       "      <td>...</td>\n",
       "      <td>0.02</td>\n",
       "      <td>0.39</td>\n",
       "      <td>0.28</td>\n",
       "      <td>NaN</td>\n",
       "      <td>NaN</td>\n",
       "      <td>NaN</td>\n",
       "      <td>NaN</td>\n",
       "      <td>0.00</td>\n",
       "      <td>NaN</td>\n",
       "      <td>0.12</td>\n",
       "    </tr>\n",
       "    <tr>\n",
       "      <td>4</td>\n",
       "      <td>42</td>\n",
       "      <td>95.0</td>\n",
       "      <td>6096.0</td>\n",
       "      <td>Bethlehemtownship</td>\n",
       "      <td>1</td>\n",
       "      <td>0.01</td>\n",
       "      <td>0.55</td>\n",
       "      <td>0.02</td>\n",
       "      <td>0.95</td>\n",
       "      <td>0.09</td>\n",
       "      <td>...</td>\n",
       "      <td>0.04</td>\n",
       "      <td>0.09</td>\n",
       "      <td>0.02</td>\n",
       "      <td>NaN</td>\n",
       "      <td>NaN</td>\n",
       "      <td>NaN</td>\n",
       "      <td>NaN</td>\n",
       "      <td>0.00</td>\n",
       "      <td>NaN</td>\n",
       "      <td>0.03</td>\n",
       "    </tr>\n",
       "  </tbody>\n",
       "</table>\n",
       "<p>5 rows × 128 columns</p>\n",
       "</div>"
      ],
      "text/plain": [
       "   state  county  community        communityname  fold  population  \\\n",
       "0      8     NaN        NaN         Lakewoodcity     1        0.19   \n",
       "1     53     NaN        NaN          Tukwilacity     1        0.00   \n",
       "2     24     NaN        NaN         Aberdeentown     1        0.00   \n",
       "3     34     5.0    81440.0  Willingborotownship     1        0.04   \n",
       "4     42    95.0     6096.0    Bethlehemtownship     1        0.01   \n",
       "\n",
       "   householdsize  racepctblack  racePctWhite  racePctAsian  ...  LandArea  \\\n",
       "0           0.33          0.02          0.90          0.12  ...      0.12   \n",
       "1           0.16          0.12          0.74          0.45  ...      0.02   \n",
       "2           0.42          0.49          0.56          0.17  ...      0.01   \n",
       "3           0.77          1.00          0.08          0.12  ...      0.02   \n",
       "4           0.55          0.02          0.95          0.09  ...      0.04   \n",
       "\n",
       "   PopDens  PctUsePubTrans  PolicCars  PolicOperBudg  LemasPctPolicOnPatr  \\\n",
       "0     0.26            0.20       0.06           0.04                  0.9   \n",
       "1     0.12            0.45        NaN            NaN                  NaN   \n",
       "2     0.21            0.02        NaN            NaN                  NaN   \n",
       "3     0.39            0.28        NaN            NaN                  NaN   \n",
       "4     0.09            0.02        NaN            NaN                  NaN   \n",
       "\n",
       "   LemasGangUnitDeploy  LemasPctOfficDrugUn  PolicBudgPerPop  \\\n",
       "0                  0.5                 0.32             0.14   \n",
       "1                  NaN                 0.00              NaN   \n",
       "2                  NaN                 0.00              NaN   \n",
       "3                  NaN                 0.00              NaN   \n",
       "4                  NaN                 0.00              NaN   \n",
       "\n",
       "   ViolentCrimesPerPop  \n",
       "0                 0.20  \n",
       "1                 0.67  \n",
       "2                 0.43  \n",
       "3                 0.12  \n",
       "4                 0.03  \n",
       "\n",
       "[5 rows x 128 columns]"
      ]
     },
     "execution_count": 7,
     "metadata": {},
     "output_type": "execute_result"
    }
   ],
   "source": [
    "data.head()"
   ]
  },
  {
   "cell_type": "code",
   "execution_count": 8,
   "metadata": {},
   "outputs": [
    {
     "data": {
      "text/html": [
       "<div>\n",
       "<style scoped>\n",
       "    .dataframe tbody tr th:only-of-type {\n",
       "        vertical-align: middle;\n",
       "    }\n",
       "\n",
       "    .dataframe tbody tr th {\n",
       "        vertical-align: top;\n",
       "    }\n",
       "\n",
       "    .dataframe thead th {\n",
       "        text-align: right;\n",
       "    }\n",
       "</style>\n",
       "<table border=\"1\" class=\"dataframe\">\n",
       "  <thead>\n",
       "    <tr style=\"text-align: right;\">\n",
       "      <th></th>\n",
       "      <th>state</th>\n",
       "      <th>county</th>\n",
       "      <th>community</th>\n",
       "      <th>fold</th>\n",
       "      <th>population</th>\n",
       "      <th>householdsize</th>\n",
       "      <th>racepctblack</th>\n",
       "      <th>racePctWhite</th>\n",
       "      <th>racePctAsian</th>\n",
       "      <th>racePctHisp</th>\n",
       "      <th>...</th>\n",
       "      <th>LandArea</th>\n",
       "      <th>PopDens</th>\n",
       "      <th>PctUsePubTrans</th>\n",
       "      <th>PolicCars</th>\n",
       "      <th>PolicOperBudg</th>\n",
       "      <th>LemasPctPolicOnPatr</th>\n",
       "      <th>LemasGangUnitDeploy</th>\n",
       "      <th>LemasPctOfficDrugUn</th>\n",
       "      <th>PolicBudgPerPop</th>\n",
       "      <th>ViolentCrimesPerPop</th>\n",
       "    </tr>\n",
       "  </thead>\n",
       "  <tbody>\n",
       "    <tr>\n",
       "      <td>count</td>\n",
       "      <td>1994.000000</td>\n",
       "      <td>820.000000</td>\n",
       "      <td>817.000000</td>\n",
       "      <td>1994.000000</td>\n",
       "      <td>1994.000000</td>\n",
       "      <td>1994.000000</td>\n",
       "      <td>1994.000000</td>\n",
       "      <td>1994.000000</td>\n",
       "      <td>1994.000000</td>\n",
       "      <td>1994.000000</td>\n",
       "      <td>...</td>\n",
       "      <td>1994.000000</td>\n",
       "      <td>1994.000000</td>\n",
       "      <td>1994.000000</td>\n",
       "      <td>319.000000</td>\n",
       "      <td>319.000000</td>\n",
       "      <td>319.000000</td>\n",
       "      <td>319.000000</td>\n",
       "      <td>1994.000000</td>\n",
       "      <td>319.000000</td>\n",
       "      <td>1994.000000</td>\n",
       "    </tr>\n",
       "    <tr>\n",
       "      <td>mean</td>\n",
       "      <td>28.683551</td>\n",
       "      <td>58.826829</td>\n",
       "      <td>46188.336597</td>\n",
       "      <td>5.493982</td>\n",
       "      <td>0.057593</td>\n",
       "      <td>0.463395</td>\n",
       "      <td>0.179629</td>\n",
       "      <td>0.753716</td>\n",
       "      <td>0.153681</td>\n",
       "      <td>0.144022</td>\n",
       "      <td>...</td>\n",
       "      <td>0.065231</td>\n",
       "      <td>0.232854</td>\n",
       "      <td>0.161685</td>\n",
       "      <td>0.163103</td>\n",
       "      <td>0.076708</td>\n",
       "      <td>0.698589</td>\n",
       "      <td>0.440439</td>\n",
       "      <td>0.094052</td>\n",
       "      <td>0.195078</td>\n",
       "      <td>0.237979</td>\n",
       "    </tr>\n",
       "    <tr>\n",
       "      <td>std</td>\n",
       "      <td>16.397553</td>\n",
       "      <td>126.420560</td>\n",
       "      <td>25299.726569</td>\n",
       "      <td>2.873694</td>\n",
       "      <td>0.126906</td>\n",
       "      <td>0.163717</td>\n",
       "      <td>0.253442</td>\n",
       "      <td>0.244039</td>\n",
       "      <td>0.208877</td>\n",
       "      <td>0.232492</td>\n",
       "      <td>...</td>\n",
       "      <td>0.109459</td>\n",
       "      <td>0.203092</td>\n",
       "      <td>0.229055</td>\n",
       "      <td>0.214778</td>\n",
       "      <td>0.140207</td>\n",
       "      <td>0.213944</td>\n",
       "      <td>0.405808</td>\n",
       "      <td>0.240328</td>\n",
       "      <td>0.164718</td>\n",
       "      <td>0.232985</td>\n",
       "    </tr>\n",
       "    <tr>\n",
       "      <td>min</td>\n",
       "      <td>1.000000</td>\n",
       "      <td>1.000000</td>\n",
       "      <td>70.000000</td>\n",
       "      <td>1.000000</td>\n",
       "      <td>0.000000</td>\n",
       "      <td>0.000000</td>\n",
       "      <td>0.000000</td>\n",
       "      <td>0.000000</td>\n",
       "      <td>0.000000</td>\n",
       "      <td>0.000000</td>\n",
       "      <td>...</td>\n",
       "      <td>0.000000</td>\n",
       "      <td>0.000000</td>\n",
       "      <td>0.000000</td>\n",
       "      <td>0.000000</td>\n",
       "      <td>0.000000</td>\n",
       "      <td>0.000000</td>\n",
       "      <td>0.000000</td>\n",
       "      <td>0.000000</td>\n",
       "      <td>0.000000</td>\n",
       "      <td>0.000000</td>\n",
       "    </tr>\n",
       "    <tr>\n",
       "      <td>25%</td>\n",
       "      <td>12.000000</td>\n",
       "      <td>9.000000</td>\n",
       "      <td>25065.000000</td>\n",
       "      <td>3.000000</td>\n",
       "      <td>0.010000</td>\n",
       "      <td>0.350000</td>\n",
       "      <td>0.020000</td>\n",
       "      <td>0.630000</td>\n",
       "      <td>0.040000</td>\n",
       "      <td>0.010000</td>\n",
       "      <td>...</td>\n",
       "      <td>0.020000</td>\n",
       "      <td>0.100000</td>\n",
       "      <td>0.020000</td>\n",
       "      <td>0.040000</td>\n",
       "      <td>0.020000</td>\n",
       "      <td>0.620000</td>\n",
       "      <td>0.000000</td>\n",
       "      <td>0.000000</td>\n",
       "      <td>0.110000</td>\n",
       "      <td>0.070000</td>\n",
       "    </tr>\n",
       "    <tr>\n",
       "      <td>50%</td>\n",
       "      <td>34.000000</td>\n",
       "      <td>23.000000</td>\n",
       "      <td>48090.000000</td>\n",
       "      <td>5.000000</td>\n",
       "      <td>0.020000</td>\n",
       "      <td>0.440000</td>\n",
       "      <td>0.060000</td>\n",
       "      <td>0.850000</td>\n",
       "      <td>0.070000</td>\n",
       "      <td>0.040000</td>\n",
       "      <td>...</td>\n",
       "      <td>0.040000</td>\n",
       "      <td>0.170000</td>\n",
       "      <td>0.070000</td>\n",
       "      <td>0.080000</td>\n",
       "      <td>0.030000</td>\n",
       "      <td>0.750000</td>\n",
       "      <td>0.500000</td>\n",
       "      <td>0.000000</td>\n",
       "      <td>0.150000</td>\n",
       "      <td>0.150000</td>\n",
       "    </tr>\n",
       "    <tr>\n",
       "      <td>75%</td>\n",
       "      <td>42.000000</td>\n",
       "      <td>59.500000</td>\n",
       "      <td>66660.000000</td>\n",
       "      <td>8.000000</td>\n",
       "      <td>0.050000</td>\n",
       "      <td>0.540000</td>\n",
       "      <td>0.230000</td>\n",
       "      <td>0.940000</td>\n",
       "      <td>0.170000</td>\n",
       "      <td>0.160000</td>\n",
       "      <td>...</td>\n",
       "      <td>0.070000</td>\n",
       "      <td>0.280000</td>\n",
       "      <td>0.190000</td>\n",
       "      <td>0.195000</td>\n",
       "      <td>0.060000</td>\n",
       "      <td>0.840000</td>\n",
       "      <td>1.000000</td>\n",
       "      <td>0.000000</td>\n",
       "      <td>0.220000</td>\n",
       "      <td>0.330000</td>\n",
       "    </tr>\n",
       "    <tr>\n",
       "      <td>max</td>\n",
       "      <td>56.000000</td>\n",
       "      <td>840.000000</td>\n",
       "      <td>94597.000000</td>\n",
       "      <td>10.000000</td>\n",
       "      <td>1.000000</td>\n",
       "      <td>1.000000</td>\n",
       "      <td>1.000000</td>\n",
       "      <td>1.000000</td>\n",
       "      <td>1.000000</td>\n",
       "      <td>1.000000</td>\n",
       "      <td>...</td>\n",
       "      <td>1.000000</td>\n",
       "      <td>1.000000</td>\n",
       "      <td>1.000000</td>\n",
       "      <td>1.000000</td>\n",
       "      <td>1.000000</td>\n",
       "      <td>1.000000</td>\n",
       "      <td>1.000000</td>\n",
       "      <td>1.000000</td>\n",
       "      <td>1.000000</td>\n",
       "      <td>1.000000</td>\n",
       "    </tr>\n",
       "  </tbody>\n",
       "</table>\n",
       "<p>8 rows × 127 columns</p>\n",
       "</div>"
      ],
      "text/plain": [
       "             state      county     community         fold   population  \\\n",
       "count  1994.000000  820.000000    817.000000  1994.000000  1994.000000   \n",
       "mean     28.683551   58.826829  46188.336597     5.493982     0.057593   \n",
       "std      16.397553  126.420560  25299.726569     2.873694     0.126906   \n",
       "min       1.000000    1.000000     70.000000     1.000000     0.000000   \n",
       "25%      12.000000    9.000000  25065.000000     3.000000     0.010000   \n",
       "50%      34.000000   23.000000  48090.000000     5.000000     0.020000   \n",
       "75%      42.000000   59.500000  66660.000000     8.000000     0.050000   \n",
       "max      56.000000  840.000000  94597.000000    10.000000     1.000000   \n",
       "\n",
       "       householdsize  racepctblack  racePctWhite  racePctAsian  racePctHisp  \\\n",
       "count    1994.000000   1994.000000   1994.000000   1994.000000  1994.000000   \n",
       "mean        0.463395      0.179629      0.753716      0.153681     0.144022   \n",
       "std         0.163717      0.253442      0.244039      0.208877     0.232492   \n",
       "min         0.000000      0.000000      0.000000      0.000000     0.000000   \n",
       "25%         0.350000      0.020000      0.630000      0.040000     0.010000   \n",
       "50%         0.440000      0.060000      0.850000      0.070000     0.040000   \n",
       "75%         0.540000      0.230000      0.940000      0.170000     0.160000   \n",
       "max         1.000000      1.000000      1.000000      1.000000     1.000000   \n",
       "\n",
       "       ...     LandArea      PopDens  PctUsePubTrans   PolicCars  \\\n",
       "count  ...  1994.000000  1994.000000     1994.000000  319.000000   \n",
       "mean   ...     0.065231     0.232854        0.161685    0.163103   \n",
       "std    ...     0.109459     0.203092        0.229055    0.214778   \n",
       "min    ...     0.000000     0.000000        0.000000    0.000000   \n",
       "25%    ...     0.020000     0.100000        0.020000    0.040000   \n",
       "50%    ...     0.040000     0.170000        0.070000    0.080000   \n",
       "75%    ...     0.070000     0.280000        0.190000    0.195000   \n",
       "max    ...     1.000000     1.000000        1.000000    1.000000   \n",
       "\n",
       "       PolicOperBudg  LemasPctPolicOnPatr  LemasGangUnitDeploy  \\\n",
       "count     319.000000           319.000000           319.000000   \n",
       "mean        0.076708             0.698589             0.440439   \n",
       "std         0.140207             0.213944             0.405808   \n",
       "min         0.000000             0.000000             0.000000   \n",
       "25%         0.020000             0.620000             0.000000   \n",
       "50%         0.030000             0.750000             0.500000   \n",
       "75%         0.060000             0.840000             1.000000   \n",
       "max         1.000000             1.000000             1.000000   \n",
       "\n",
       "       LemasPctOfficDrugUn  PolicBudgPerPop  ViolentCrimesPerPop  \n",
       "count          1994.000000       319.000000          1994.000000  \n",
       "mean              0.094052         0.195078             0.237979  \n",
       "std               0.240328         0.164718             0.232985  \n",
       "min               0.000000         0.000000             0.000000  \n",
       "25%               0.000000         0.110000             0.070000  \n",
       "50%               0.000000         0.150000             0.150000  \n",
       "75%               0.000000         0.220000             0.330000  \n",
       "max               1.000000         1.000000             1.000000  \n",
       "\n",
       "[8 rows x 127 columns]"
      ]
     },
     "execution_count": 8,
     "metadata": {},
     "output_type": "execute_result"
    }
   ],
   "source": [
    "data.describe()"
   ]
  },
  {
   "cell_type": "code",
   "execution_count": null,
   "metadata": {},
   "outputs": [],
   "source": []
  },
  {
   "cell_type": "code",
   "execution_count": 5,
   "metadata": {},
   "outputs": [
    {
     "data": {
      "text/plain": [
       "17736"
      ]
     },
     "execution_count": 5,
     "metadata": {},
     "output_type": "execute_result"
    }
   ],
   "source": [
    "#Are the food titles unique ? \n",
    "len(data['title'].unique())"
   ]
  },
  {
   "cell_type": "code",
   "execution_count": 6,
   "metadata": {},
   "outputs": [
    {
     "data": {
      "text/plain": [
       "False    18251\n",
       "True      1801\n",
       "dtype: int64"
      ]
     },
     "execution_count": 6,
     "metadata": {},
     "output_type": "execute_result"
    }
   ],
   "source": [
    "#Are the same foods duplicate or do they have different features ? \n",
    "data.duplicated().value_counts()"
   ]
  },
  {
   "cell_type": "code",
   "execution_count": 7,
   "metadata": {},
   "outputs": [
    {
     "name": "stdout",
     "output_type": "stream",
     "text": [
      "Number of title duplicates: 515\n",
      "Corresponds to: 2.8217631910580243percent of our original dataset.\n"
     ]
    }
   ],
   "source": [
    "#Let's remove the duplicates\n",
    "data = data.drop_duplicates()\n",
    "print(\"Number of title duplicates: \" + str(len(data)-len(data.title.value_counts())))\n",
    "print(\"Corresponds to: \" + str(100*(len(data)-len(data.title.value_counts()))/len(data)) + \"percent of our original dataset.\")"
   ]
  },
  {
   "cell_type": "markdown",
   "metadata": {},
   "source": [
    "We dropped the duplicates, there are still 515 foods that are not unique but that are not duplicates. Let's look at some of those.  "
   ]
  },
  {
   "cell_type": "code",
   "execution_count": 8,
   "metadata": {},
   "outputs": [
    {
     "data": {
      "text/html": [
       "<div>\n",
       "<style scoped>\n",
       "    .dataframe tbody tr th:only-of-type {\n",
       "        vertical-align: middle;\n",
       "    }\n",
       "\n",
       "    .dataframe tbody tr th {\n",
       "        vertical-align: top;\n",
       "    }\n",
       "\n",
       "    .dataframe thead th {\n",
       "        text-align: right;\n",
       "    }\n",
       "</style>\n",
       "<table border=\"1\" class=\"dataframe\">\n",
       "  <thead>\n",
       "    <tr style=\"text-align: right;\">\n",
       "      <th></th>\n",
       "      <th>title</th>\n",
       "      <th>rating</th>\n",
       "      <th>calories</th>\n",
       "      <th>protein</th>\n",
       "      <th>fat</th>\n",
       "      <th>sodium</th>\n",
       "      <th>#cakeweek</th>\n",
       "      <th>#wasteless</th>\n",
       "      <th>22-minute meals</th>\n",
       "      <th>3-ingredient recipes</th>\n",
       "      <th>...</th>\n",
       "      <th>yellow squash</th>\n",
       "      <th>yogurt</th>\n",
       "      <th>yonkers</th>\n",
       "      <th>yuca</th>\n",
       "      <th>zucchini</th>\n",
       "      <th>cookbooks</th>\n",
       "      <th>leftovers</th>\n",
       "      <th>snack</th>\n",
       "      <th>snack week</th>\n",
       "      <th>turkey</th>\n",
       "    </tr>\n",
       "  </thead>\n",
       "  <tbody>\n",
       "    <tr>\n",
       "      <td>2212</td>\n",
       "      <td>All-Butter Pastry Dough</td>\n",
       "      <td>4.375</td>\n",
       "      <td>1378.0</td>\n",
       "      <td>17.0</td>\n",
       "      <td>93.0</td>\n",
       "      <td>599.0</td>\n",
       "      <td>0.0</td>\n",
       "      <td>0.0</td>\n",
       "      <td>0.0</td>\n",
       "      <td>0.0</td>\n",
       "      <td>...</td>\n",
       "      <td>0.0</td>\n",
       "      <td>0.0</td>\n",
       "      <td>0.0</td>\n",
       "      <td>0.0</td>\n",
       "      <td>0.0</td>\n",
       "      <td>0.0</td>\n",
       "      <td>0.0</td>\n",
       "      <td>0.0</td>\n",
       "      <td>0.0</td>\n",
       "      <td>0.0</td>\n",
       "    </tr>\n",
       "    <tr>\n",
       "      <td>14622</td>\n",
       "      <td>All-Butter Pastry Dough</td>\n",
       "      <td>5.000</td>\n",
       "      <td>2790.0</td>\n",
       "      <td>34.0</td>\n",
       "      <td>186.0</td>\n",
       "      <td>1780.0</td>\n",
       "      <td>0.0</td>\n",
       "      <td>0.0</td>\n",
       "      <td>0.0</td>\n",
       "      <td>0.0</td>\n",
       "      <td>...</td>\n",
       "      <td>0.0</td>\n",
       "      <td>0.0</td>\n",
       "      <td>0.0</td>\n",
       "      <td>0.0</td>\n",
       "      <td>0.0</td>\n",
       "      <td>0.0</td>\n",
       "      <td>0.0</td>\n",
       "      <td>0.0</td>\n",
       "      <td>0.0</td>\n",
       "      <td>0.0</td>\n",
       "    </tr>\n",
       "    <tr>\n",
       "      <td>3145</td>\n",
       "      <td>Anchovy Mayonnaise</td>\n",
       "      <td>3.125</td>\n",
       "      <td>471.0</td>\n",
       "      <td>10.0</td>\n",
       "      <td>44.0</td>\n",
       "      <td>1000.0</td>\n",
       "      <td>0.0</td>\n",
       "      <td>0.0</td>\n",
       "      <td>0.0</td>\n",
       "      <td>0.0</td>\n",
       "      <td>...</td>\n",
       "      <td>0.0</td>\n",
       "      <td>0.0</td>\n",
       "      <td>0.0</td>\n",
       "      <td>0.0</td>\n",
       "      <td>0.0</td>\n",
       "      <td>0.0</td>\n",
       "      <td>0.0</td>\n",
       "      <td>0.0</td>\n",
       "      <td>0.0</td>\n",
       "      <td>0.0</td>\n",
       "    </tr>\n",
       "    <tr>\n",
       "      <td>10907</td>\n",
       "      <td>Anchovy Mayonnaise</td>\n",
       "      <td>3.750</td>\n",
       "      <td>NaN</td>\n",
       "      <td>NaN</td>\n",
       "      <td>NaN</td>\n",
       "      <td>NaN</td>\n",
       "      <td>0.0</td>\n",
       "      <td>0.0</td>\n",
       "      <td>0.0</td>\n",
       "      <td>0.0</td>\n",
       "      <td>...</td>\n",
       "      <td>0.0</td>\n",
       "      <td>0.0</td>\n",
       "      <td>0.0</td>\n",
       "      <td>0.0</td>\n",
       "      <td>0.0</td>\n",
       "      <td>0.0</td>\n",
       "      <td>0.0</td>\n",
       "      <td>0.0</td>\n",
       "      <td>0.0</td>\n",
       "      <td>0.0</td>\n",
       "    </tr>\n",
       "    <tr>\n",
       "      <td>14106</td>\n",
       "      <td>Angel Punch</td>\n",
       "      <td>4.375</td>\n",
       "      <td>50.0</td>\n",
       "      <td>0.0</td>\n",
       "      <td>0.0</td>\n",
       "      <td>18.0</td>\n",
       "      <td>0.0</td>\n",
       "      <td>0.0</td>\n",
       "      <td>0.0</td>\n",
       "      <td>0.0</td>\n",
       "      <td>...</td>\n",
       "      <td>0.0</td>\n",
       "      <td>0.0</td>\n",
       "      <td>0.0</td>\n",
       "      <td>0.0</td>\n",
       "      <td>0.0</td>\n",
       "      <td>0.0</td>\n",
       "      <td>0.0</td>\n",
       "      <td>0.0</td>\n",
       "      <td>0.0</td>\n",
       "      <td>0.0</td>\n",
       "    </tr>\n",
       "    <tr>\n",
       "      <td>...</td>\n",
       "      <td>...</td>\n",
       "      <td>...</td>\n",
       "      <td>...</td>\n",
       "      <td>...</td>\n",
       "      <td>...</td>\n",
       "      <td>...</td>\n",
       "      <td>...</td>\n",
       "      <td>...</td>\n",
       "      <td>...</td>\n",
       "      <td>...</td>\n",
       "      <td>...</td>\n",
       "      <td>...</td>\n",
       "      <td>...</td>\n",
       "      <td>...</td>\n",
       "      <td>...</td>\n",
       "      <td>...</td>\n",
       "      <td>...</td>\n",
       "      <td>...</td>\n",
       "      <td>...</td>\n",
       "      <td>...</td>\n",
       "      <td>...</td>\n",
       "    </tr>\n",
       "    <tr>\n",
       "      <td>15860</td>\n",
       "      <td>Yogurt and Lemon Dressing</td>\n",
       "      <td>0.000</td>\n",
       "      <td>NaN</td>\n",
       "      <td>NaN</td>\n",
       "      <td>NaN</td>\n",
       "      <td>NaN</td>\n",
       "      <td>0.0</td>\n",
       "      <td>0.0</td>\n",
       "      <td>0.0</td>\n",
       "      <td>0.0</td>\n",
       "      <td>...</td>\n",
       "      <td>0.0</td>\n",
       "      <td>1.0</td>\n",
       "      <td>0.0</td>\n",
       "      <td>0.0</td>\n",
       "      <td>0.0</td>\n",
       "      <td>0.0</td>\n",
       "      <td>0.0</td>\n",
       "      <td>0.0</td>\n",
       "      <td>0.0</td>\n",
       "      <td>0.0</td>\n",
       "    </tr>\n",
       "    <tr>\n",
       "      <td>2870</td>\n",
       "      <td>Yorkshire Puddings</td>\n",
       "      <td>4.375</td>\n",
       "      <td>189.0</td>\n",
       "      <td>8.0</td>\n",
       "      <td>5.0</td>\n",
       "      <td>679.0</td>\n",
       "      <td>0.0</td>\n",
       "      <td>0.0</td>\n",
       "      <td>0.0</td>\n",
       "      <td>0.0</td>\n",
       "      <td>...</td>\n",
       "      <td>0.0</td>\n",
       "      <td>0.0</td>\n",
       "      <td>0.0</td>\n",
       "      <td>0.0</td>\n",
       "      <td>0.0</td>\n",
       "      <td>0.0</td>\n",
       "      <td>0.0</td>\n",
       "      <td>0.0</td>\n",
       "      <td>0.0</td>\n",
       "      <td>0.0</td>\n",
       "    </tr>\n",
       "    <tr>\n",
       "      <td>3391</td>\n",
       "      <td>Yorkshire Puddings</td>\n",
       "      <td>3.750</td>\n",
       "      <td>195.0</td>\n",
       "      <td>10.0</td>\n",
       "      <td>6.0</td>\n",
       "      <td>103.0</td>\n",
       "      <td>0.0</td>\n",
       "      <td>0.0</td>\n",
       "      <td>0.0</td>\n",
       "      <td>0.0</td>\n",
       "      <td>...</td>\n",
       "      <td>0.0</td>\n",
       "      <td>0.0</td>\n",
       "      <td>0.0</td>\n",
       "      <td>0.0</td>\n",
       "      <td>0.0</td>\n",
       "      <td>0.0</td>\n",
       "      <td>0.0</td>\n",
       "      <td>0.0</td>\n",
       "      <td>0.0</td>\n",
       "      <td>0.0</td>\n",
       "    </tr>\n",
       "    <tr>\n",
       "      <td>615</td>\n",
       "      <td>Za'atar</td>\n",
       "      <td>5.000</td>\n",
       "      <td>4.0</td>\n",
       "      <td>0.0</td>\n",
       "      <td>0.0</td>\n",
       "      <td>210.0</td>\n",
       "      <td>0.0</td>\n",
       "      <td>0.0</td>\n",
       "      <td>0.0</td>\n",
       "      <td>0.0</td>\n",
       "      <td>...</td>\n",
       "      <td>0.0</td>\n",
       "      <td>0.0</td>\n",
       "      <td>0.0</td>\n",
       "      <td>0.0</td>\n",
       "      <td>0.0</td>\n",
       "      <td>0.0</td>\n",
       "      <td>0.0</td>\n",
       "      <td>0.0</td>\n",
       "      <td>0.0</td>\n",
       "      <td>0.0</td>\n",
       "    </tr>\n",
       "    <tr>\n",
       "      <td>3138</td>\n",
       "      <td>Za'atar</td>\n",
       "      <td>0.000</td>\n",
       "      <td>90.0</td>\n",
       "      <td>3.0</td>\n",
       "      <td>5.0</td>\n",
       "      <td>487.0</td>\n",
       "      <td>0.0</td>\n",
       "      <td>0.0</td>\n",
       "      <td>0.0</td>\n",
       "      <td>0.0</td>\n",
       "      <td>...</td>\n",
       "      <td>0.0</td>\n",
       "      <td>0.0</td>\n",
       "      <td>0.0</td>\n",
       "      <td>0.0</td>\n",
       "      <td>0.0</td>\n",
       "      <td>0.0</td>\n",
       "      <td>0.0</td>\n",
       "      <td>0.0</td>\n",
       "      <td>0.0</td>\n",
       "      <td>0.0</td>\n",
       "    </tr>\n",
       "  </tbody>\n",
       "</table>\n",
       "<p>879 rows × 680 columns</p>\n",
       "</div>"
      ],
      "text/plain": [
       "                            title  rating  calories  protein    fat  sodium  \\\n",
       "2212     All-Butter Pastry Dough    4.375    1378.0     17.0   93.0   599.0   \n",
       "14622    All-Butter Pastry Dough    5.000    2790.0     34.0  186.0  1780.0   \n",
       "3145          Anchovy Mayonnaise    3.125     471.0     10.0   44.0  1000.0   \n",
       "10907         Anchovy Mayonnaise    3.750       NaN      NaN    NaN     NaN   \n",
       "14106                Angel Punch    4.375      50.0      0.0    0.0    18.0   \n",
       "...                           ...     ...       ...      ...    ...     ...   \n",
       "15860  Yogurt and Lemon Dressing    0.000       NaN      NaN    NaN     NaN   \n",
       "2870          Yorkshire Puddings    4.375     189.0      8.0    5.0   679.0   \n",
       "3391          Yorkshire Puddings    3.750     195.0     10.0    6.0   103.0   \n",
       "615                      Za'atar    5.000       4.0      0.0    0.0   210.0   \n",
       "3138                     Za'atar    0.000      90.0      3.0    5.0   487.0   \n",
       "\n",
       "       #cakeweek  #wasteless  22-minute meals  3-ingredient recipes  ...  \\\n",
       "2212         0.0         0.0              0.0                   0.0  ...   \n",
       "14622        0.0         0.0              0.0                   0.0  ...   \n",
       "3145         0.0         0.0              0.0                   0.0  ...   \n",
       "10907        0.0         0.0              0.0                   0.0  ...   \n",
       "14106        0.0         0.0              0.0                   0.0  ...   \n",
       "...          ...         ...              ...                   ...  ...   \n",
       "15860        0.0         0.0              0.0                   0.0  ...   \n",
       "2870         0.0         0.0              0.0                   0.0  ...   \n",
       "3391         0.0         0.0              0.0                   0.0  ...   \n",
       "615          0.0         0.0              0.0                   0.0  ...   \n",
       "3138         0.0         0.0              0.0                   0.0  ...   \n",
       "\n",
       "       yellow squash  yogurt  yonkers  yuca  zucchini  cookbooks  leftovers  \\\n",
       "2212             0.0     0.0      0.0   0.0       0.0        0.0        0.0   \n",
       "14622            0.0     0.0      0.0   0.0       0.0        0.0        0.0   \n",
       "3145             0.0     0.0      0.0   0.0       0.0        0.0        0.0   \n",
       "10907            0.0     0.0      0.0   0.0       0.0        0.0        0.0   \n",
       "14106            0.0     0.0      0.0   0.0       0.0        0.0        0.0   \n",
       "...              ...     ...      ...   ...       ...        ...        ...   \n",
       "15860            0.0     1.0      0.0   0.0       0.0        0.0        0.0   \n",
       "2870             0.0     0.0      0.0   0.0       0.0        0.0        0.0   \n",
       "3391             0.0     0.0      0.0   0.0       0.0        0.0        0.0   \n",
       "615              0.0     0.0      0.0   0.0       0.0        0.0        0.0   \n",
       "3138             0.0     0.0      0.0   0.0       0.0        0.0        0.0   \n",
       "\n",
       "       snack  snack week  turkey  \n",
       "2212     0.0         0.0     0.0  \n",
       "14622    0.0         0.0     0.0  \n",
       "3145     0.0         0.0     0.0  \n",
       "10907    0.0         0.0     0.0  \n",
       "14106    0.0         0.0     0.0  \n",
       "...      ...         ...     ...  \n",
       "15860    0.0         0.0     0.0  \n",
       "2870     0.0         0.0     0.0  \n",
       "3391     0.0         0.0     0.0  \n",
       "615      0.0         0.0     0.0  \n",
       "3138     0.0         0.0     0.0  \n",
       "\n",
       "[879 rows x 680 columns]"
      ]
     },
     "execution_count": 8,
     "metadata": {},
     "output_type": "execute_result"
    }
   ],
   "source": [
    "title_dup = pd.DataFrame(data=pd.concat(g for _, g in data.groupby(\"title\") if len(g) > 1))\n",
    "title_dup"
   ]
  },
  {
   "cell_type": "markdown",
   "metadata": {},
   "source": [
    "Considering that these foods correspond to only 2.8 percent of our dataset it doesn't make sense to spend to much time retrieving all of them. We can see that some of the title duplicates have NaN values, we can remove those and keep the food for which we have information. This way we can retrieve some of the foods and then discard the remaining.   "
   ]
  },
  {
   "cell_type": "code",
   "execution_count": 9,
   "metadata": {},
   "outputs": [],
   "source": [
    "rm_index_list = title_dup[np.isnan(title_dup['calories'])]\n",
    "rm_index_list = sorted(rm_index_list.index)"
   ]
  },
  {
   "cell_type": "code",
   "execution_count": 10,
   "metadata": {},
   "outputs": [
    {
     "data": {
      "text/plain": [
       "17451"
      ]
     },
     "execution_count": 10,
     "metadata": {},
     "output_type": "execute_result"
    }
   ],
   "source": [
    "data = data.drop(rm_index_list)\n",
    "data = data.drop_duplicates(subset='title',keep = False)\n",
    "len(data)"
   ]
  },
  {
   "cell_type": "markdown",
   "metadata": {},
   "source": [
    "We now have roughly 96% of our initial data. Let's see if we can remove some of the columns. "
   ]
  },
  {
   "cell_type": "code",
   "execution_count": 11,
   "metadata": {},
   "outputs": [
    {
     "data": {
      "text/plain": [
       "title          object\n",
       "rating        float64\n",
       "calories      float64\n",
       "protein       float64\n",
       "fat           float64\n",
       "               ...   \n",
       "cookbooks     float64\n",
       "leftovers     float64\n",
       "snack         float64\n",
       "snack week    float64\n",
       "turkey        float64\n",
       "Length: 680, dtype: object"
      ]
     },
     "execution_count": 11,
     "metadata": {},
     "output_type": "execute_result"
    }
   ],
   "source": [
    "data.dtypes"
   ]
  },
  {
   "cell_type": "code",
   "execution_count": 12,
   "metadata": {},
   "outputs": [
    {
     "data": {
      "text/plain": [
       "float64    679\n",
       "object       1\n",
       "dtype: int64"
      ]
     },
     "execution_count": 12,
     "metadata": {},
     "output_type": "execute_result"
    }
   ],
   "source": [
    "data.dtypes.value_counts()"
   ]
  },
  {
   "cell_type": "markdown",
   "metadata": {},
   "source": [
    "We see that the features are all floats, the only non numerical value is the title of the food. \n",
    "Let's reduce the number of columns in the dataset, most of the columns have mostly empty values as we can see from the 75 percentile in data.describe. Let's remove all the columns that have a 75 percentile of 0."
   ]
  },
  {
   "cell_type": "code",
   "execution_count": 13,
   "metadata": {},
   "outputs": [
    {
     "data": {
      "text/plain": [
       "0.000      665\n",
       "1.000        9\n",
       "745.000      1\n",
       "35.000       1\n",
       "29.000       1\n",
       "608.000      1\n",
       "4.375        1\n",
       "Name: 0.75, dtype: int64"
      ]
     },
     "execution_count": 13,
     "metadata": {},
     "output_type": "execute_result"
    }
   ],
   "source": [
    "data.quantile(.75).value_counts()"
   ]
  },
  {
   "cell_type": "markdown",
   "metadata": {},
   "source": [
    "The dataset has 680 columns, we see that 665 columns have a quantile of 0, 9 columns have a quantile of 1.0 and the remaining values of quantile correspond to the first 5 columns (calories, sodium, fat, protein, rating). Let's explore the 9 columns that have a 75 percentile of 1 and see what they look like. "
   ]
  },
  {
   "cell_type": "code",
   "execution_count": 14,
   "metadata": {},
   "outputs": [],
   "source": [
    "col_list = []\n",
    "col_list_labels = []\n",
    "for column in data.columns:\n",
    "    if data[column].dtype == np.float64:\n",
    "        if data[column].quantile(.75)>0:\n",
    "            col_list.append(column)\n",
    "        if data[column].quantile(.75)==1:\n",
    "            col_list_labels.append(column)\n",
    "    else:\n",
    "        col_list.append(column)\n",
    "data = data[col_list]"
   ]
  },
  {
   "cell_type": "code",
   "execution_count": 15,
   "metadata": {},
   "outputs": [
    {
     "data": {
      "text/html": [
       "<div>\n",
       "<style scoped>\n",
       "    .dataframe tbody tr th:only-of-type {\n",
       "        vertical-align: middle;\n",
       "    }\n",
       "\n",
       "    .dataframe tbody tr th {\n",
       "        vertical-align: top;\n",
       "    }\n",
       "\n",
       "    .dataframe thead th {\n",
       "        text-align: right;\n",
       "    }\n",
       "</style>\n",
       "<table border=\"1\" class=\"dataframe\">\n",
       "  <thead>\n",
       "    <tr style=\"text-align: right;\">\n",
       "      <th></th>\n",
       "      <th>title</th>\n",
       "      <th>rating</th>\n",
       "      <th>calories</th>\n",
       "      <th>protein</th>\n",
       "      <th>fat</th>\n",
       "      <th>sodium</th>\n",
       "      <th>bon appétit</th>\n",
       "      <th>gourmet</th>\n",
       "      <th>kosher</th>\n",
       "      <th>peanut free</th>\n",
       "      <th>pescatarian</th>\n",
       "      <th>quick &amp; easy</th>\n",
       "      <th>soy free</th>\n",
       "      <th>tree nut free</th>\n",
       "      <th>vegetarian</th>\n",
       "    </tr>\n",
       "  </thead>\n",
       "  <tbody>\n",
       "    <tr>\n",
       "      <td>0</td>\n",
       "      <td>Lentil, Apple, and Turkey Wrap</td>\n",
       "      <td>2.500</td>\n",
       "      <td>426.0</td>\n",
       "      <td>30.0</td>\n",
       "      <td>7.0</td>\n",
       "      <td>559.0</td>\n",
       "      <td>0.0</td>\n",
       "      <td>0.0</td>\n",
       "      <td>0.0</td>\n",
       "      <td>0.0</td>\n",
       "      <td>0.0</td>\n",
       "      <td>0.0</td>\n",
       "      <td>0.0</td>\n",
       "      <td>0.0</td>\n",
       "      <td>0.0</td>\n",
       "    </tr>\n",
       "    <tr>\n",
       "      <td>1</td>\n",
       "      <td>Boudin Blanc Terrine with Red Onion Confit</td>\n",
       "      <td>4.375</td>\n",
       "      <td>403.0</td>\n",
       "      <td>18.0</td>\n",
       "      <td>23.0</td>\n",
       "      <td>1439.0</td>\n",
       "      <td>1.0</td>\n",
       "      <td>0.0</td>\n",
       "      <td>0.0</td>\n",
       "      <td>0.0</td>\n",
       "      <td>0.0</td>\n",
       "      <td>0.0</td>\n",
       "      <td>0.0</td>\n",
       "      <td>0.0</td>\n",
       "      <td>0.0</td>\n",
       "    </tr>\n",
       "    <tr>\n",
       "      <td>2</td>\n",
       "      <td>Potato and Fennel Soup Hodge</td>\n",
       "      <td>3.750</td>\n",
       "      <td>165.0</td>\n",
       "      <td>6.0</td>\n",
       "      <td>7.0</td>\n",
       "      <td>165.0</td>\n",
       "      <td>0.0</td>\n",
       "      <td>1.0</td>\n",
       "      <td>0.0</td>\n",
       "      <td>0.0</td>\n",
       "      <td>0.0</td>\n",
       "      <td>0.0</td>\n",
       "      <td>0.0</td>\n",
       "      <td>0.0</td>\n",
       "      <td>0.0</td>\n",
       "    </tr>\n",
       "    <tr>\n",
       "      <td>3</td>\n",
       "      <td>Mahi-Mahi in Tomato Olive Sauce</td>\n",
       "      <td>5.000</td>\n",
       "      <td>NaN</td>\n",
       "      <td>NaN</td>\n",
       "      <td>NaN</td>\n",
       "      <td>NaN</td>\n",
       "      <td>1.0</td>\n",
       "      <td>0.0</td>\n",
       "      <td>1.0</td>\n",
       "      <td>1.0</td>\n",
       "      <td>1.0</td>\n",
       "      <td>0.0</td>\n",
       "      <td>1.0</td>\n",
       "      <td>1.0</td>\n",
       "      <td>0.0</td>\n",
       "    </tr>\n",
       "    <tr>\n",
       "      <td>4</td>\n",
       "      <td>Spinach Noodle Casserole</td>\n",
       "      <td>3.125</td>\n",
       "      <td>547.0</td>\n",
       "      <td>20.0</td>\n",
       "      <td>32.0</td>\n",
       "      <td>452.0</td>\n",
       "      <td>1.0</td>\n",
       "      <td>0.0</td>\n",
       "      <td>0.0</td>\n",
       "      <td>0.0</td>\n",
       "      <td>0.0</td>\n",
       "      <td>1.0</td>\n",
       "      <td>0.0</td>\n",
       "      <td>0.0</td>\n",
       "      <td>1.0</td>\n",
       "    </tr>\n",
       "    <tr>\n",
       "      <td>...</td>\n",
       "      <td>...</td>\n",
       "      <td>...</td>\n",
       "      <td>...</td>\n",
       "      <td>...</td>\n",
       "      <td>...</td>\n",
       "      <td>...</td>\n",
       "      <td>...</td>\n",
       "      <td>...</td>\n",
       "      <td>...</td>\n",
       "      <td>...</td>\n",
       "      <td>...</td>\n",
       "      <td>...</td>\n",
       "      <td>...</td>\n",
       "      <td>...</td>\n",
       "      <td>...</td>\n",
       "    </tr>\n",
       "    <tr>\n",
       "      <td>20046</td>\n",
       "      <td>Chinese Barbecued Spareribs</td>\n",
       "      <td>3.750</td>\n",
       "      <td>998.0</td>\n",
       "      <td>55.0</td>\n",
       "      <td>80.0</td>\n",
       "      <td>2027.0</td>\n",
       "      <td>0.0</td>\n",
       "      <td>0.0</td>\n",
       "      <td>0.0</td>\n",
       "      <td>1.0</td>\n",
       "      <td>0.0</td>\n",
       "      <td>0.0</td>\n",
       "      <td>0.0</td>\n",
       "      <td>1.0</td>\n",
       "      <td>0.0</td>\n",
       "    </tr>\n",
       "    <tr>\n",
       "      <td>20048</td>\n",
       "      <td>Artichoke and Parmesan Risotto</td>\n",
       "      <td>4.375</td>\n",
       "      <td>671.0</td>\n",
       "      <td>22.0</td>\n",
       "      <td>28.0</td>\n",
       "      <td>583.0</td>\n",
       "      <td>1.0</td>\n",
       "      <td>0.0</td>\n",
       "      <td>1.0</td>\n",
       "      <td>1.0</td>\n",
       "      <td>1.0</td>\n",
       "      <td>0.0</td>\n",
       "      <td>1.0</td>\n",
       "      <td>1.0</td>\n",
       "      <td>0.0</td>\n",
       "    </tr>\n",
       "    <tr>\n",
       "      <td>20049</td>\n",
       "      <td>Turkey Cream Puff Pie</td>\n",
       "      <td>4.375</td>\n",
       "      <td>563.0</td>\n",
       "      <td>31.0</td>\n",
       "      <td>38.0</td>\n",
       "      <td>652.0</td>\n",
       "      <td>0.0</td>\n",
       "      <td>1.0</td>\n",
       "      <td>0.0</td>\n",
       "      <td>1.0</td>\n",
       "      <td>0.0</td>\n",
       "      <td>0.0</td>\n",
       "      <td>1.0</td>\n",
       "      <td>1.0</td>\n",
       "      <td>0.0</td>\n",
       "    </tr>\n",
       "    <tr>\n",
       "      <td>20050</td>\n",
       "      <td>Snapper on Angel Hair with Citrus Cream</td>\n",
       "      <td>4.375</td>\n",
       "      <td>631.0</td>\n",
       "      <td>45.0</td>\n",
       "      <td>24.0</td>\n",
       "      <td>517.0</td>\n",
       "      <td>1.0</td>\n",
       "      <td>0.0</td>\n",
       "      <td>0.0</td>\n",
       "      <td>0.0</td>\n",
       "      <td>0.0</td>\n",
       "      <td>1.0</td>\n",
       "      <td>0.0</td>\n",
       "      <td>0.0</td>\n",
       "      <td>0.0</td>\n",
       "    </tr>\n",
       "    <tr>\n",
       "      <td>20051</td>\n",
       "      <td>Baked Ham with Marmalade-Horseradish Glaze</td>\n",
       "      <td>4.375</td>\n",
       "      <td>560.0</td>\n",
       "      <td>73.0</td>\n",
       "      <td>10.0</td>\n",
       "      <td>3698.0</td>\n",
       "      <td>1.0</td>\n",
       "      <td>0.0</td>\n",
       "      <td>0.0</td>\n",
       "      <td>0.0</td>\n",
       "      <td>0.0</td>\n",
       "      <td>0.0</td>\n",
       "      <td>0.0</td>\n",
       "      <td>0.0</td>\n",
       "      <td>0.0</td>\n",
       "    </tr>\n",
       "  </tbody>\n",
       "</table>\n",
       "<p>17451 rows × 15 columns</p>\n",
       "</div>"
      ],
      "text/plain": [
       "                                             title  rating  calories  protein  \\\n",
       "0                  Lentil, Apple, and Turkey Wrap    2.500     426.0     30.0   \n",
       "1      Boudin Blanc Terrine with Red Onion Confit    4.375     403.0     18.0   \n",
       "2                    Potato and Fennel Soup Hodge    3.750     165.0      6.0   \n",
       "3                 Mahi-Mahi in Tomato Olive Sauce    5.000       NaN      NaN   \n",
       "4                        Spinach Noodle Casserole    3.125     547.0     20.0   \n",
       "...                                            ...     ...       ...      ...   \n",
       "20046                 Chinese Barbecued Spareribs    3.750     998.0     55.0   \n",
       "20048              Artichoke and Parmesan Risotto    4.375     671.0     22.0   \n",
       "20049                       Turkey Cream Puff Pie    4.375     563.0     31.0   \n",
       "20050     Snapper on Angel Hair with Citrus Cream    4.375     631.0     45.0   \n",
       "20051  Baked Ham with Marmalade-Horseradish Glaze    4.375     560.0     73.0   \n",
       "\n",
       "        fat  sodium  bon appétit  gourmet  kosher  peanut free  pescatarian  \\\n",
       "0       7.0   559.0          0.0      0.0     0.0          0.0          0.0   \n",
       "1      23.0  1439.0          1.0      0.0     0.0          0.0          0.0   \n",
       "2       7.0   165.0          0.0      1.0     0.0          0.0          0.0   \n",
       "3       NaN     NaN          1.0      0.0     1.0          1.0          1.0   \n",
       "4      32.0   452.0          1.0      0.0     0.0          0.0          0.0   \n",
       "...     ...     ...          ...      ...     ...          ...          ...   \n",
       "20046  80.0  2027.0          0.0      0.0     0.0          1.0          0.0   \n",
       "20048  28.0   583.0          1.0      0.0     1.0          1.0          1.0   \n",
       "20049  38.0   652.0          0.0      1.0     0.0          1.0          0.0   \n",
       "20050  24.0   517.0          1.0      0.0     0.0          0.0          0.0   \n",
       "20051  10.0  3698.0          1.0      0.0     0.0          0.0          0.0   \n",
       "\n",
       "       quick & easy  soy free  tree nut free  vegetarian  \n",
       "0               0.0       0.0            0.0         0.0  \n",
       "1               0.0       0.0            0.0         0.0  \n",
       "2               0.0       0.0            0.0         0.0  \n",
       "3               0.0       1.0            1.0         0.0  \n",
       "4               1.0       0.0            0.0         1.0  \n",
       "...             ...       ...            ...         ...  \n",
       "20046           0.0       0.0            1.0         0.0  \n",
       "20048           0.0       1.0            1.0         0.0  \n",
       "20049           0.0       1.0            1.0         0.0  \n",
       "20050           1.0       0.0            0.0         0.0  \n",
       "20051           0.0       0.0            0.0         0.0  \n",
       "\n",
       "[17451 rows x 15 columns]"
      ]
     },
     "execution_count": 15,
     "metadata": {},
     "output_type": "execute_result"
    }
   ],
   "source": [
    "data"
   ]
  },
  {
   "cell_type": "code",
   "execution_count": 16,
   "metadata": {},
   "outputs": [
    {
     "data": {
      "image/png": "[encoded data removed]",
      "text/plain": [
       "<Figure size 1080x504 with 1 Axes>"
      ]
     },
     "metadata": {
      "needs_background": "light"
     },
     "output_type": "display_data"
    }
   ],
   "source": [
    "zeros = []\n",
    "ones = []\n",
    "for column in col_list_labels: \n",
    "    counts = data[column].value_counts(normalize = True)\n",
    "    zeros.append(counts[0])\n",
    "    ones.append(counts[1])\n",
    "\n",
    "x = np.arange(len(col_list_labels))  # the label locations\n",
    "width = 0.35  # the width of the bars\n",
    "\n",
    "fig, ax = plt.subplots(figsize = (15,7))\n",
    "rects1 = ax.bar(x - width/2, zeros, width, label='False')\n",
    "rects2 = ax.bar(x + width/2, ones, width, label='True')\n",
    "\n",
    "# Add some text for labels, title and custom x-axis tick labels, etc.\n",
    "ax.set_ylabel('Percentage')\n",
    "ax.set_title('Value counts per column')\n",
    "ax.set_xticks(x)\n",
    "ax.set_xticklabels(col_list_labels)\n",
    "ax.legend()\n",
    "\n",
    "fig.tight_layout()\n",
    "\n",
    "plt.show()"
   ]
  },
  {
   "cell_type": "code",
   "execution_count": 17,
   "metadata": {},
   "outputs": [
    {
     "data": {
      "image/png": "[encoded data removed]",
      "text/plain": [
       "<Figure size 1080x1728 with 4 Axes>"
      ]
     },
     "metadata": {
      "needs_background": "light"
     },
     "output_type": "display_data"
    }
   ],
   "source": [
    "#Let's see if the fact that a food belongs to a label influences the rating\n",
    "mean_zeros = []\n",
    "mean_ones = []\n",
    "quantile5_zeros = []\n",
    "quantile5_ones = []\n",
    "quantile25_zeros = []\n",
    "quantile25_ones = []\n",
    "quantile75_zeros = []\n",
    "quantile75_ones = []\n",
    "\n",
    "for column in col_list_labels: \n",
    "    mean_zeros.append(data[data[column] == 0].rating.mean())\n",
    "    mean_ones.append(data[data[column] == 1].rating.mean())\n",
    "    quantile5_zeros.append(data[data[column] == 0].rating.quantile(.5))\n",
    "    quantile5_ones.append(data[data[column] == 1].rating.quantile(.5))\n",
    "    quantile25_zeros.append(data[data[column] == 0].rating.quantile(.25))\n",
    "    quantile25_ones.append(data[data[column] == 1].rating.quantile(.25))\n",
    "    quantile75_zeros.append(data[data[column] == 0].rating.quantile(.75))\n",
    "    quantile75_ones.append(data[data[column] == 1].rating.quantile(.75))\n",
    "\n",
    "x = np.arange(len(col_list_labels))  # the label locations\n",
    "width = 0.35  # the width of the bars\n",
    "\n",
    "fig, (ax1,ax2,ax3,ax4) = plt.subplots(4,1,figsize = (15,24))\n",
    "rects1 = ax1.bar(x - width/2, mean_zeros, width, label='False')\n",
    "rects2 = ax1.bar(x + width/2, mean_ones, width, label='True')\n",
    "\n",
    "# Add some text for labels, title and custom x-axis tick labels, etc.\n",
    "ax1.set_ylabel('Average rating')\n",
    "ax1.set_title('Average rating per column')\n",
    "ax1.set_xticks(x)\n",
    "ax1.set_xticklabels(col_list_labels)\n",
    "ax1.legend()\n",
    "\n",
    "rects1 = ax2.bar(x - width/2, quantile5_zeros, width, label='False')\n",
    "rects2 = ax2.bar(x + width/2, quantile5_ones, width, label='True')\n",
    "\n",
    "# Add some text for labels, title and custom x-axis tick labels, etc.\n",
    "ax2.set_ylabel('Median rating')\n",
    "ax2.set_title('Median rating per column')\n",
    "ax2.set_xticks(x)\n",
    "ax2.set_xticklabels(col_list_labels)\n",
    "ax2.legend()\n",
    "\n",
    "rects1 = ax3.bar(x - width/2, quantile25_zeros, width, label='False')\n",
    "rects2 = ax3.bar(x + width/2, quantile25_ones, width, label='True')\n",
    "\n",
    "# Add some text for labels, title and custom x-axis tick labels, etc.\n",
    "ax3.set_ylabel('First quartile rating')\n",
    "ax3.set_title('First quartile rating per column')\n",
    "ax3.set_xticks(x)\n",
    "ax3.set_xticklabels(col_list_labels)\n",
    "ax3.legend()\n",
    "\n",
    "rects1 = ax4.bar(x - width/2, quantile75_zeros, width, label='False')\n",
    "rects2 = ax4.bar(x + width/2, quantile75_ones, width, label='True')\n",
    "\n",
    "# Add some text for labels, title and custom x-axis tick labels, etc.\n",
    "ax4.set_ylabel('Third quartile rating')\n",
    "ax4.set_title('Third quartile rating per column')\n",
    "ax4.set_xticks(x)\n",
    "ax4.set_xticklabels(col_list_labels)\n",
    "ax4.legend()\n",
    "\n",
    "fig.tight_layout()\n",
    "\n",
    "plt.show()"
   ]
  },
  {
   "cell_type": "markdown",
   "metadata": {},
   "source": [
    "The labels do not influence the rating, we can therefore drop these columns and only focus on the nutritional content. "
   ]
  },
  {
   "cell_type": "code",
   "execution_count": 18,
   "metadata": {},
   "outputs": [],
   "source": [
    "col_list = [\"title\",\"rating\",\"calories\",\"protein\",\"fat\", \"sodium\"]\n",
    "data = data[col_list]"
   ]
  },
  {
   "cell_type": "code",
   "execution_count": 19,
   "metadata": {},
   "outputs": [
    {
     "data": {
      "text/html": [
       "<div>\n",
       "<style scoped>\n",
       "    .dataframe tbody tr th:only-of-type {\n",
       "        vertical-align: middle;\n",
       "    }\n",
       "\n",
       "    .dataframe tbody tr th {\n",
       "        vertical-align: top;\n",
       "    }\n",
       "\n",
       "    .dataframe thead th {\n",
       "        text-align: right;\n",
       "    }\n",
       "</style>\n",
       "<table border=\"1\" class=\"dataframe\">\n",
       "  <thead>\n",
       "    <tr style=\"text-align: right;\">\n",
       "      <th></th>\n",
       "      <th>rating</th>\n",
       "      <th>calories</th>\n",
       "      <th>protein</th>\n",
       "      <th>fat</th>\n",
       "      <th>sodium</th>\n",
       "    </tr>\n",
       "  </thead>\n",
       "  <tbody>\n",
       "    <tr>\n",
       "      <td>count</td>\n",
       "      <td>17451.000000</td>\n",
       "      <td>1.383400e+04</td>\n",
       "      <td>13811.000000</td>\n",
       "      <td>1.379300e+04</td>\n",
       "      <td>1.383300e+04</td>\n",
       "    </tr>\n",
       "    <tr>\n",
       "      <td>mean</td>\n",
       "      <td>3.724679</td>\n",
       "      <td>6.924901e+03</td>\n",
       "      <td>96.134313</td>\n",
       "      <td>3.798166e+02</td>\n",
       "      <td>6.873686e+03</td>\n",
       "    </tr>\n",
       "    <tr>\n",
       "      <td>std</td>\n",
       "      <td>1.316722</td>\n",
       "      <td>3.837218e+05</td>\n",
       "      <td>3594.519557</td>\n",
       "      <td>2.186035e+04</td>\n",
       "      <td>3.567285e+05</td>\n",
       "    </tr>\n",
       "    <tr>\n",
       "      <td>min</td>\n",
       "      <td>0.000000</td>\n",
       "      <td>0.000000e+00</td>\n",
       "      <td>0.000000</td>\n",
       "      <td>0.000000e+00</td>\n",
       "      <td>0.000000e+00</td>\n",
       "    </tr>\n",
       "    <tr>\n",
       "      <td>25%</td>\n",
       "      <td>3.750000</td>\n",
       "      <td>2.090000e+02</td>\n",
       "      <td>3.000000</td>\n",
       "      <td>9.000000e+00</td>\n",
       "      <td>9.400000e+01</td>\n",
       "    </tr>\n",
       "    <tr>\n",
       "      <td>50%</td>\n",
       "      <td>4.375000</td>\n",
       "      <td>3.540000e+02</td>\n",
       "      <td>9.000000</td>\n",
       "      <td>1.800000e+01</td>\n",
       "      <td>3.130000e+02</td>\n",
       "    </tr>\n",
       "    <tr>\n",
       "      <td>75%</td>\n",
       "      <td>4.375000</td>\n",
       "      <td>6.080000e+02</td>\n",
       "      <td>29.000000</td>\n",
       "      <td>3.500000e+01</td>\n",
       "      <td>7.450000e+02</td>\n",
       "    </tr>\n",
       "    <tr>\n",
       "      <td>max</td>\n",
       "      <td>5.000000</td>\n",
       "      <td>3.011122e+07</td>\n",
       "      <td>236489.000000</td>\n",
       "      <td>1.722763e+06</td>\n",
       "      <td>2.767511e+07</td>\n",
       "    </tr>\n",
       "  </tbody>\n",
       "</table>\n",
       "</div>"
      ],
      "text/plain": [
       "             rating      calories        protein           fat        sodium\n",
       "count  17451.000000  1.383400e+04   13811.000000  1.379300e+04  1.383300e+04\n",
       "mean       3.724679  6.924901e+03      96.134313  3.798166e+02  6.873686e+03\n",
       "std        1.316722  3.837218e+05    3594.519557  2.186035e+04  3.567285e+05\n",
       "min        0.000000  0.000000e+00       0.000000  0.000000e+00  0.000000e+00\n",
       "25%        3.750000  2.090000e+02       3.000000  9.000000e+00  9.400000e+01\n",
       "50%        4.375000  3.540000e+02       9.000000  1.800000e+01  3.130000e+02\n",
       "75%        4.375000  6.080000e+02      29.000000  3.500000e+01  7.450000e+02\n",
       "max        5.000000  3.011122e+07  236489.000000  1.722763e+06  2.767511e+07"
      ]
     },
     "execution_count": 19,
     "metadata": {},
     "output_type": "execute_result"
    }
   ],
   "source": [
    "data.describe()"
   ]
  },
  {
   "cell_type": "code",
   "execution_count": 20,
   "metadata": {},
   "outputs": [
    {
     "data": {
      "text/plain": [
       "title          0\n",
       "rating         0\n",
       "calories    3617\n",
       "protein     3640\n",
       "fat         3658\n",
       "sodium      3618\n",
       "dtype: int64"
      ]
     },
     "execution_count": 20,
     "metadata": {},
     "output_type": "execute_result"
    }
   ],
   "source": [
    "data.isna().sum()"
   ]
  },
  {
   "cell_type": "code",
   "execution_count": 21,
   "metadata": {},
   "outputs": [
    {
     "data": {
      "text/plain": [
       "0    13789\n",
       "4     3617\n",
       "1       25\n",
       "2       20\n",
       "dtype: int64"
      ]
     },
     "execution_count": 21,
     "metadata": {},
     "output_type": "execute_result"
    }
   ],
   "source": [
    "NaNs = data.isnull().sum(axis=1)\n",
    "NaNs.value_counts()"
   ]
  },
  {
   "cell_type": "markdown",
   "metadata": {},
   "source": [
    "We can see a few things from these tables, first we see that generally if there is a missing value all nutritional information is missing. The number of missing values is roughly 20%, which means we cannot simply discard them. We also notice that for some columns there are outliers, for instance for the protein content, the median value is 9 but the max value is 236489 which seems wrong. \n",
    "\n",
    "Since we are working with numerical data, it would be nice to substitute the missing data with the average value for the column. However, if all nutritional information is missing it means that we will have a lot of duplicates over different rating values and this will bring no extra information for our model. At the same time if we substitute the values with averages per rating bin we are biasing our model.  \n",
    "\n",
    "Also if there are large outliers the average value will also be off. Let's visualize the outliers.\n",
    "\n",
    "## Outliers"
   ]
  },
  {
   "cell_type": "code",
   "execution_count": 22,
   "metadata": {},
   "outputs": [
    {
     "data": {
      "text/plain": [
       "Text(0.5, 1.0, 'sodium')"
      ]
     },
     "execution_count": 22,
     "metadata": {},
     "output_type": "execute_result"
    },
    {
     "data": {
      "image/png": "[encoded data removed]",
      "text/plain": [
       "<Figure size 1080x360 with 5 Axes>"
      ]
     },
     "metadata": {
      "needs_background": "light"
     },
     "output_type": "display_data"
    }
   ],
   "source": [
    "fig, (ax1,ax2,ax3,ax4,ax5) = plt.subplots(1,5,figsize = (15,5))\n",
    "sns.boxplot(data=data.rating, ax=ax1)\n",
    "ax1.set_title(\"rating\")\n",
    "sns.boxplot(data=data.calories, ax=ax2)\n",
    "ax2.set_title(\"calories\")\n",
    "sns.boxplot(data=data.protein, ax=ax3)\n",
    "ax3.set_title(\"protein\")\n",
    "sns.boxplot(data=data.fat, ax=ax4)\n",
    "ax4.set_title(\"fat\")\n",
    "sns.boxplot(data=data.sodium, ax=ax5)\n",
    "ax5.set_title(\"sodium\")"
   ]
  },
  {
   "cell_type": "markdown",
   "metadata": {},
   "source": [
    "We can see that for the nutritional values there are outliers that are so far out the norm, that we cannot even see the boxplot."
   ]
  },
  {
   "cell_type": "code",
   "execution_count": 23,
   "metadata": {},
   "outputs": [],
   "source": [
    "Q1 = data.quantile(0.25)\n",
    "Q3 = data.quantile(0.75)\n",
    "IQR = Q3 - Q1"
   ]
  },
  {
   "cell_type": "code",
   "execution_count": 24,
   "metadata": {},
   "outputs": [
    {
     "data": {
      "text/plain": [
       "14962"
      ]
     },
     "execution_count": 24,
     "metadata": {},
     "output_type": "execute_result"
    }
   ],
   "source": [
    "#Let's remove far outliers (3xIQR)\n",
    "data_out = data[~((data < (Q1 - 3 * IQR)) |(data > (Q3 + 3 * IQR))).any(axis=1)]\n",
    "len(data_out)"
   ]
  },
  {
   "cell_type": "code",
   "execution_count": 25,
   "metadata": {},
   "outputs": [
    {
     "data": {
      "text/plain": [
       "Text(0.5, 1.0, 'sodium')"
      ]
     },
     "execution_count": 25,
     "metadata": {},
     "output_type": "execute_result"
    },
    {
     "data": {
      "image/png": "[encoded data removed]",
      "text/plain": [
       "<Figure size 1080x360 with 5 Axes>"
      ]
     },
     "metadata": {
      "needs_background": "light"
     },
     "output_type": "display_data"
    }
   ],
   "source": [
    "#Let's see how the boxplot look right now\n",
    "fig, (ax1,ax2,ax3,ax4,ax5) = plt.subplots(1,5,figsize = (15,5))\n",
    "sns.boxplot(data=data_out.rating, ax=ax1)\n",
    "ax1.set_title(\"rating\")\n",
    "sns.boxplot(data=data_out.calories, ax=ax2, color=\"Green\")\n",
    "ax2.set_title(\"calories\")\n",
    "sns.boxplot(data=data_out.protein, ax=ax3, color = \"Red\")\n",
    "ax3.set_title(\"protein\")\n",
    "sns.boxplot(data=data_out.fat, ax=ax4, color=\"Yellow\")\n",
    "ax4.set_title(\"fat\")\n",
    "sns.boxplot(data=data_out.sodium, ax=ax5, color = \"Purple\")\n",
    "ax5.set_title(\"sodium\")"
   ]
  },
  {
   "cell_type": "markdown",
   "metadata": {},
   "source": [
    "We have removed a significant amount of data, with more knowledge about the dataset it would have probably been possible to save a bit more data. For instance, maybe the outliers are due to different units of measurement. However with the information available we could only remove them or replace them with some other value. Let's try this second option too: in this case since we are keeping the outliers but replacing them we cannot use the average which is very sensitive, it is best to use the median."
   ]
  },
  {
   "cell_type": "code",
   "execution_count": 26,
   "metadata": {},
   "outputs": [
    {
     "data": {
      "text/plain": [
       "17451"
      ]
     },
     "execution_count": 26,
     "metadata": {},
     "output_type": "execute_result"
    }
   ],
   "source": [
    "median = data.median()\n",
    "outliers = ((data < (Q1 - 3 * IQR)) |(data > (Q3 + 3 * IQR)))\n",
    "data_out2 = data[col_list]\n",
    "data_out2.fillna(-1, inplace=True)\n",
    "data_out2[outliers] = np.nan\n",
    "data_out2.fillna(median, inplace=True)\n",
    "data_out2[data_out2 == -1] = np.nan\n",
    "len(data_out2)"
   ]
  },
  {
   "cell_type": "code",
   "execution_count": 27,
   "metadata": {},
   "outputs": [
    {
     "data": {
      "text/plain": [
       "Text(0.5, 1.0, 'sodium')"
      ]
     },
     "execution_count": 27,
     "metadata": {},
     "output_type": "execute_result"
    },
    {
     "data": {
      "image/png": "[encoded data removed]",
      "text/plain": [
       "<Figure size 1080x360 with 5 Axes>"
      ]
     },
     "metadata": {
      "needs_background": "light"
     },
     "output_type": "display_data"
    }
   ],
   "source": [
    "#Let's see how the boxplot look right now\n",
    "fig, (ax1,ax2,ax3,ax4,ax5) = plt.subplots(1,5,figsize = (15,5))\n",
    "sns.boxplot(data=data_out2.rating, ax=ax1)\n",
    "ax1.set_title(\"rating\")\n",
    "sns.boxplot(data=data_out2.calories, ax=ax2, color=\"Green\")\n",
    "ax2.set_title(\"calories\")\n",
    "sns.boxplot(data=data_out2.protein, ax=ax3, color = \"Red\")\n",
    "ax3.set_title(\"protein\")\n",
    "sns.boxplot(data=data_out2.fat, ax=ax4, color=\"Yellow\")\n",
    "ax4.set_title(\"fat\")\n",
    "sns.boxplot(data=data_out2.sodium, ax=ax5, color = \"Purple\")\n",
    "ax5.set_title(\"sodium\")"
   ]
  },
  {
   "cell_type": "markdown",
   "metadata": {},
   "source": [
    "The two approaches give very similar results, as such let's go for the second as it allows us to keep more data. "
   ]
  },
  {
   "cell_type": "markdown",
   "metadata": {},
   "source": [
    "## Missing values\n",
    "\n",
    "Let's see if there is a correlation between the rating and the missing values. "
   ]
  },
  {
   "cell_type": "code",
   "execution_count": 28,
   "metadata": {},
   "outputs": [],
   "source": [
    "data_nan = data[data.isna().any(axis=1)]"
   ]
  },
  {
   "cell_type": "code",
   "execution_count": 29,
   "metadata": {},
   "outputs": [
    {
     "data": {
      "text/plain": [
       "Text(0.5, 1.0, 'Rating distribution for whole dataset')"
      ]
     },
     "execution_count": 29,
     "metadata": {},
     "output_type": "execute_result"
    },
    {
     "data": {
      "image/png": "[encoded data removed]",
      "text/plain": [
       "<Figure size 1080x360 with 2 Axes>"
      ]
     },
     "metadata": {
      "needs_background": "light"
     },
     "output_type": "display_data"
    }
   ],
   "source": [
    "#Let's plot the rating for this subset of data\n",
    "fig, (ax1,ax2) = plt.subplots(1,2, figsize = (15,5))\n",
    "hist = data_nan.hist(bins=5, column=\"rating\", ax = ax1)\n",
    "ax1.set_title(\"Rating distribution for NaN rows\")\n",
    "hist = data.hist(bins=5, column=\"rating\", ax = ax2)\n",
    "ax2.set_title(\"Rating distribution for whole dataset\")"
   ]
  },
  {
   "cell_type": "markdown",
   "metadata": {},
   "source": [
    "Rows with missing values do not seem to correspond to better or worse rating. Considering that we want to apply a linear regression on the dataset and that the size of the dataset is large we can decide to drop the rows that have 4 missing values. For the remaining rows where only one or two values are missing we will substitute them with the average value.\n",
    "\n",
    "Indeed if we substitute all the rows with 4 missing values in them with the average over the entire dataset we are only introducing replicates which are not useful for the model (they do not carry extra information) and I believe it is safer to drop the rows then to introduce a bias by filling the missing values with the average value per rating bin. "
   ]
  },
  {
   "cell_type": "code",
   "execution_count": 30,
   "metadata": {},
   "outputs": [
    {
     "data": {
      "text/plain": [
       "13834"
      ]
     },
     "execution_count": 30,
     "metadata": {},
     "output_type": "execute_result"
    }
   ],
   "source": [
    "data_out2 = data_out2[data_out2.isnull().sum(axis=1)<4]\n",
    "len(data_out2)"
   ]
  },
  {
   "cell_type": "code",
   "execution_count": 31,
   "metadata": {},
   "outputs": [],
   "source": [
    "#Now let's replace the remaining null value with the average\n",
    "mean = data.mean()\n",
    "data_out2.fillna(mean, inplace=True)"
   ]
  },
  {
   "cell_type": "markdown",
   "metadata": {},
   "source": [
    "## Feature exploration\n",
    "\n",
    "We now have preprocessed our data, let's visualize the distributions of the features and if they are in anyway correlated with the rating. We want to explore the linear correlations between rating and the remaining features. "
   ]
  },
  {
   "cell_type": "code",
   "execution_count": 32,
   "metadata": {},
   "outputs": [
    {
     "data": {
      "image/png": "[encoded data removed]",
      "text/plain": [
       "<Figure size 4320x6480 with 4 Axes>"
      ]
     },
     "metadata": {
      "needs_background": "light"
     },
     "output_type": "display_data"
    }
   ],
   "source": [
    "plt.figure(figsize=(60,90))\n",
    "i =1\n",
    "col_list = [\"calories\",\"protein\", \"fat\", \"sodium\"]\n",
    "for col in col_list:\n",
    "    rating_var = data_out2.groupby(col).rating.mean()\n",
    "    var = data_out2.groupby(col).size()\n",
    "    ax = plt.subplot(10,6, i)\n",
    "    plt.scatter(var.index,rating_var)\n",
    "    plt.xlabel(col, size=20)\n",
    "    plt.ylabel('Mean of rating', size=20)\n",
    "    i = i+1"
   ]
  },
  {
   "cell_type": "markdown",
   "metadata": {},
   "source": [
    "This doesn't look very promising for our regression task, there isn't a clear trend, of course by showing the mean for every value of \"col\" we are not grouping the data in most meaningful way. Let's try and apply a principal components analysis and see if we can extract more meaningful variables. "
   ]
  },
  {
   "cell_type": "code",
   "execution_count": 33,
   "metadata": {},
   "outputs": [],
   "source": [
    "#find subset of data and normalize it\n",
    "from sklearn.preprocessing import StandardScaler\n",
    "X = data_out2[col_list]\n",
    "scaler = StandardScaler().fit(X)\n",
    "X = scaler.transform(X)"
   ]
  },
  {
   "cell_type": "code",
   "execution_count": 34,
   "metadata": {},
   "outputs": [],
   "source": [
    "#Derive principle components\n",
    "from sklearn.decomposition import PCA\n",
    "pca = PCA(n_components=2) \n",
    "principalComponents = pca.fit_transform(X)\n",
    "\n",
    "data_PCA = pd.DataFrame(data = principalComponents\n",
    "             , columns = ['pc1','pc2'])"
   ]
  },
  {
   "cell_type": "code",
   "execution_count": 40,
   "metadata": {},
   "outputs": [],
   "source": [
    "data_PCA['rating'] = data_out2.rating"
   ]
  },
  {
   "cell_type": "code",
   "execution_count": 41,
   "metadata": {},
   "outputs": [
    {
     "data": {
      "image/png": "[encoded data removed]",
      "text/plain": [
       "<Figure size 4320x6480 with 3 Axes>"
      ]
     },
     "metadata": {
      "needs_background": "light"
     },
     "output_type": "display_data"
    }
   ],
   "source": [
    "plt.figure(figsize=(60,90))\n",
    "i =1\n",
    "for col in data_PCA.columns:\n",
    "    rating_var = data_PCA.groupby(col).rating.mean()\n",
    "    var = data_PCA.groupby(col).size()\n",
    "    ax = plt.subplot(10,6, i)\n",
    "    plt.scatter(var.index,rating_var)\n",
    "    plt.xlabel(col, size=20)\n",
    "    plt.ylabel('Mean of rating', size=20)\n",
    "    i = i+1"
   ]
  },
  {
   "cell_type": "markdown",
   "metadata": {},
   "source": [
    "## Linear Regression \n",
    "\n",
    "Let's try and apply the linear regression model both on the original, scaled dataset, and on the dataset that we get from the PCA.\n",
    "\n",
    "First let's split our data in test and train."
   ]
  },
  {
   "cell_type": "code",
   "execution_count": 42,
   "metadata": {},
   "outputs": [],
   "source": [
    "X_PCA = data_PCA.loc[:, (data_PCA.columns != 'rating')].values\n",
    "y = data_out2['rating']"
   ]
  },
  {
   "cell_type": "code",
   "execution_count": 43,
   "metadata": {},
   "outputs": [],
   "source": [
    "#We divide into a training and test set with 30% dedicated to testing\n",
    "X_train, X_test, y_train, y_test = train_test_split(X, y, test_size=0.3, random_state=0)\n",
    "\n",
    "X_PCA_train, X_PCA_test, y_PCA_train, y_PCA_test = train_test_split(X_PCA, y, test_size=0.3, random_state=0)"
   ]
  },
  {
   "cell_type": "code",
   "execution_count": 44,
   "metadata": {},
   "outputs": [
    {
     "data": {
      "text/plain": [
       "LinearRegression(copy_X=True, fit_intercept=True, n_jobs=None, normalize=False)"
      ]
     },
     "execution_count": 44,
     "metadata": {},
     "output_type": "execute_result"
    }
   ],
   "source": [
    "#We create the linear model and fit it to our training data\n",
    "from sklearn.linear_model import LinearRegression\n",
    "lr_regr = LinearRegression()\n",
    "lr_regr.fit(X_train,y_train)"
   ]
  },
  {
   "cell_type": "code",
   "execution_count": 45,
   "metadata": {},
   "outputs": [
    {
     "data": {
      "text/plain": [
       "LinearRegression(copy_X=True, fit_intercept=True, n_jobs=None, normalize=False)"
      ]
     },
     "execution_count": 45,
     "metadata": {},
     "output_type": "execute_result"
    }
   ],
   "source": [
    "lr_regr_PCA = LinearRegression()\n",
    "lr_regr_PCA.fit(X_PCA_train,y_PCA_train)"
   ]
  },
  {
   "cell_type": "code",
   "execution_count": 46,
   "metadata": {},
   "outputs": [],
   "source": [
    "y_pred = lr_regr.predict(X_test)\n",
    "y_PCA_pred = lr_regr_PCA.predict(X_PCA_test)"
   ]
  },
  {
   "cell_type": "code",
   "execution_count": 47,
   "metadata": {},
   "outputs": [
    {
     "name": "stdout",
     "output_type": "stream",
     "text": [
      "Mean squared error: 0.33\n",
      "Coefficient of determination: 0.00\n",
      "Mean squared error after PCA: 0.33\n",
      "Coefficient of determination after PCA: 0.00\n"
     ]
    }
   ],
   "source": [
    "from sklearn.metrics import mean_squared_error, r2_score\n",
    "# The mean squared error\n",
    "print('Mean squared error: %.2f'\n",
    "      % mean_squared_error(y_test, y_pred))\n",
    "# The coefficient of determination: 1 is perfect prediction\n",
    "print('Coefficient of determination: %.2f'\n",
    "      % r2_score(y_test, y_pred))\n",
    "# The mean squared error\n",
    "print('Mean squared error after PCA: %.2f'\n",
    "      % mean_squared_error(y_PCA_test, y_PCA_pred))\n",
    "# The coefficient of determination: 1 is perfect prediction\n",
    "print('Coefficient of determination after PCA: %.2f'\n",
    "      % r2_score(y_PCA_test, y_PCA_pred))"
   ]
  },
  {
   "cell_type": "markdown",
   "metadata": {},
   "source": [
    "As expected the results of the Linear Regression are not great, we didn't see any linearity in the original values or in the principal components. \n",
    "\n",
    "Let's see if a Random Forest Tree gives us better predictions. "
   ]
  },
  {
   "cell_type": "code",
   "execution_count": 58,
   "metadata": {},
   "outputs": [
    {
     "data": {
      "text/plain": [
       "RandomForestRegressor(bootstrap=True, criterion='mse', max_depth=100,\n",
       "                      max_features='auto', max_leaf_nodes=None,\n",
       "                      min_impurity_decrease=0.0, min_impurity_split=None,\n",
       "                      min_samples_leaf=1, min_samples_split=2,\n",
       "                      min_weight_fraction_leaf=0.0, n_estimators=100,\n",
       "                      n_jobs=None, oob_score=False, random_state=0, verbose=0,\n",
       "                      warm_start=False)"
      ]
     },
     "execution_count": 58,
     "metadata": {},
     "output_type": "execute_result"
    }
   ],
   "source": [
    "#We create the random forest regression model and fit it to our training data\n",
    "from sklearn.ensemble import RandomForestRegressor\n",
    "rf_regr = RandomForestRegressor(n_estimators=100, max_depth=100,\n",
    "                                random_state=0)\n",
    "rf_regr.fit(X_train, y_train)\n",
    "\n",
    "rf_regr_PCA = RandomForestRegressor(n_estimators=100, max_depth=100,\n",
    "                                random_state=0)\n",
    "rf_regr_PCA.fit(X_PCA_train, y_PCA_train)"
   ]
  },
  {
   "cell_type": "code",
   "execution_count": 59,
   "metadata": {},
   "outputs": [],
   "source": [
    "y_pred = rf_regr.predict(X_test)\n",
    "y_PCA_pred = rf_regr_PCA.predict(X_PCA_test)"
   ]
  },
  {
   "cell_type": "code",
   "execution_count": 62,
   "metadata": {},
   "outputs": [
    {
     "name": "stdout",
     "output_type": "stream",
     "text": [
      "Mean squared error: 0.36\n",
      "Coefficient of determination: -0.10\n",
      "Mean squared error after PCA: 0.37\n",
      "Coefficient of determination after PCA: -0.14\n"
     ]
    }
   ],
   "source": [
    "# The mean squared error\n",
    "print('Mean squared error: %.2f'\n",
    "      % mean_squared_error(y_test, y_pred))\n",
    "# The coefficient of determination: 1 is perfect prediction\n",
    "print('Coefficient of determination: %.2f'\n",
    "      % r2_score(y_test, y_pred))\n",
    "# The mean squared error\n",
    "print('Mean squared error after PCA: %.2f'\n",
    "      % mean_squared_error(y_PCA_test, y_PCA_pred))\n",
    "# The coefficient of determination: 1 is perfect prediction\n",
    "print('Coefficient of determination after PCA: %.2f'\n",
    "      % r2_score(y_PCA_test, y_PCA_pred))"
   ]
  },
  {
   "cell_type": "markdown",
   "metadata": {},
   "source": [
    "To be honest I am not sure why the results are so bad. It might be that this problem cannot be solved as regression. One possibility is to treat it as a classification problem and try to see if it is possible to determine if we can predict if the rating is going to be good or bad. However looking at the distribution of the rating since most of the values are in the 4-5 it isn't trivial to make this a classification problem. "
   ]
  },
  {
   "cell_type": "code",
   "execution_count": null,
   "metadata": {},
   "outputs": [],
   "source": []
  }
 ],
 "metadata": {
  "kernelspec": {
   "display_name": "Python 3",
   "language": "python",
   "name": "python3"
  },
  "language_info": {
   "codemirror_mode": {
    "name": "ipython",
    "version": 3
   },
   "file_extension": ".py",
   "mimetype": "text/x-python",
   "name": "python",
   "nbconvert_exporter": "python",
   "pygments_lexer": "ipython3",
   "version": "3.7.4"
  }
 },
 "nbformat": 4,
 "nbformat_minor": 2
}
